{
 "cells": [
  {
   "cell_type": "code",
   "execution_count": 1,
   "id": "c453f283-d677-465d-ae2f-fd0e21649302",
   "metadata": {},
   "outputs": [],
   "source": [
    "import requests\n",
    "import urllib.request\n",
    "import json\n",
    "import pandas as pd\n",
    "import zipfile\n",
    "import io"
   ]
  },
  {
   "cell_type": "code",
   "execution_count": 2,
   "id": "3c2ee39d-702e-4b59-8206-708dbda2483a",
   "metadata": {},
   "outputs": [],
   "source": [
    "#Get download link from StatCan API\n",
    "table_id = \"14100287\"\n",
    "meta_url = f\"https://www150.statcan.gc.ca/t1/wds/rest/getFullTableDownloadCSV/{table_id}/en\"\n",
    "meta = requests.get(meta_url).json()\n",
    "zip_url = meta['object']"
   ]
  },
  {
   "cell_type": "code",
   "execution_count": 3,
   "id": "a0f5a11d-e356-49f9-86da-c43b55ac6f14",
   "metadata": {},
   "outputs": [
    {
     "name": "stdout",
     "output_type": "stream",
     "text": [
      "ZIP contains: ['14100287.csv', '14100287_MetaData.csv']\n"
     ]
    }
   ],
   "source": [
    "#Download and read main CSV\n",
    "response = requests.get(zip_url)\n",
    "with zipfile.ZipFile(io.BytesIO(response.content)) as z:\n",
    "    print(\"ZIP contains:\", z.namelist())\n",
    "    for file_name in z.namelist():\n",
    "        if file_name.endswith(\".csv\") and \"MetaData\" not in file_name:\n",
    "            with z.open(file_name) as f:\n",
    "                df_unemp = pd.read_csv(f, low_memory=False)"
   ]
  },
  {
   "cell_type": "code",
   "execution_count": 4,
   "id": "ad636071-3743-40dc-bd68-eb8fd58de6e4",
   "metadata": {},
   "outputs": [
    {
     "name": "stdout",
     "output_type": "stream",
     "text": [
      "✅ Raw shape: (5340654, 19)\n",
      "✅ Columns: ['REF_DATE', 'GEO', 'DGUID', 'Labour force characteristics', 'Gender', 'Age group', 'Statistics', 'Data type', 'UOM', 'UOM_ID', 'SCALAR_FACTOR', 'SCALAR_ID', 'VECTOR', 'COORDINATE', 'VALUE', 'STATUS', 'SYMBOL', 'TERMINATED', 'DECIMALS']\n"
     ]
    },
    {
     "data": {
      "text/html": [
       "<div>\n",
       "<style scoped>\n",
       "    .dataframe tbody tr th:only-of-type {\n",
       "        vertical-align: middle;\n",
       "    }\n",
       "\n",
       "    .dataframe tbody tr th {\n",
       "        vertical-align: top;\n",
       "    }\n",
       "\n",
       "    .dataframe thead th {\n",
       "        text-align: right;\n",
       "    }\n",
       "</style>\n",
       "<table border=\"1\" class=\"dataframe\">\n",
       "  <thead>\n",
       "    <tr style=\"text-align: right;\">\n",
       "      <th></th>\n",
       "      <th>REF_DATE</th>\n",
       "      <th>GEO</th>\n",
       "      <th>DGUID</th>\n",
       "      <th>Labour force characteristics</th>\n",
       "      <th>Gender</th>\n",
       "      <th>Age group</th>\n",
       "      <th>Statistics</th>\n",
       "      <th>Data type</th>\n",
       "      <th>UOM</th>\n",
       "      <th>UOM_ID</th>\n",
       "      <th>SCALAR_FACTOR</th>\n",
       "      <th>SCALAR_ID</th>\n",
       "      <th>VECTOR</th>\n",
       "      <th>COORDINATE</th>\n",
       "      <th>VALUE</th>\n",
       "      <th>STATUS</th>\n",
       "      <th>SYMBOL</th>\n",
       "      <th>TERMINATED</th>\n",
       "      <th>DECIMALS</th>\n",
       "    </tr>\n",
       "  </thead>\n",
       "  <tbody>\n",
       "    <tr>\n",
       "      <th>0</th>\n",
       "      <td>1976-01</td>\n",
       "      <td>Canada</td>\n",
       "      <td>2021A000011124</td>\n",
       "      <td>Population</td>\n",
       "      <td>Total - Gender</td>\n",
       "      <td>15 years and over</td>\n",
       "      <td>Estimate</td>\n",
       "      <td>Seasonally adjusted</td>\n",
       "      <td>Persons in thousands</td>\n",
       "      <td>428</td>\n",
       "      <td>thousands</td>\n",
       "      <td>3</td>\n",
       "      <td>v2062809</td>\n",
       "      <td>1.1.1.1.1.1</td>\n",
       "      <td>16852.4</td>\n",
       "      <td>NaN</td>\n",
       "      <td>NaN</td>\n",
       "      <td>NaN</td>\n",
       "      <td>1</td>\n",
       "    </tr>\n",
       "    <tr>\n",
       "      <th>1</th>\n",
       "      <td>1976-01</td>\n",
       "      <td>Canada</td>\n",
       "      <td>2021A000011124</td>\n",
       "      <td>Population</td>\n",
       "      <td>Total - Gender</td>\n",
       "      <td>15 years and over</td>\n",
       "      <td>Estimate</td>\n",
       "      <td>Unadjusted</td>\n",
       "      <td>Persons in thousands</td>\n",
       "      <td>428</td>\n",
       "      <td>thousands</td>\n",
       "      <td>3</td>\n",
       "      <td>v2064888</td>\n",
       "      <td>1.1.1.1.1.2</td>\n",
       "      <td>16852.4</td>\n",
       "      <td>NaN</td>\n",
       "      <td>NaN</td>\n",
       "      <td>NaN</td>\n",
       "      <td>1</td>\n",
       "    </tr>\n",
       "    <tr>\n",
       "      <th>2</th>\n",
       "      <td>1976-01</td>\n",
       "      <td>Canada</td>\n",
       "      <td>2021A000011124</td>\n",
       "      <td>Population</td>\n",
       "      <td>Total - Gender</td>\n",
       "      <td>15 to 64 years</td>\n",
       "      <td>Estimate</td>\n",
       "      <td>Seasonally adjusted</td>\n",
       "      <td>Persons in thousands</td>\n",
       "      <td>428</td>\n",
       "      <td>thousands</td>\n",
       "      <td>3</td>\n",
       "      <td>v21580997</td>\n",
       "      <td>1.1.1.8.1.1</td>\n",
       "      <td>15015.9</td>\n",
       "      <td>NaN</td>\n",
       "      <td>NaN</td>\n",
       "      <td>NaN</td>\n",
       "      <td>1</td>\n",
       "    </tr>\n",
       "    <tr>\n",
       "      <th>3</th>\n",
       "      <td>1976-01</td>\n",
       "      <td>Canada</td>\n",
       "      <td>2021A000011124</td>\n",
       "      <td>Population</td>\n",
       "      <td>Total - Gender</td>\n",
       "      <td>15 to 64 years</td>\n",
       "      <td>Estimate</td>\n",
       "      <td>Unadjusted</td>\n",
       "      <td>Persons in thousands</td>\n",
       "      <td>428</td>\n",
       "      <td>thousands</td>\n",
       "      <td>3</td>\n",
       "      <td>v21580998</td>\n",
       "      <td>1.1.1.8.1.2</td>\n",
       "      <td>15015.9</td>\n",
       "      <td>NaN</td>\n",
       "      <td>NaN</td>\n",
       "      <td>NaN</td>\n",
       "      <td>1</td>\n",
       "    </tr>\n",
       "    <tr>\n",
       "      <th>4</th>\n",
       "      <td>1976-01</td>\n",
       "      <td>Canada</td>\n",
       "      <td>2021A000011124</td>\n",
       "      <td>Population</td>\n",
       "      <td>Total - Gender</td>\n",
       "      <td>15 to 24 years</td>\n",
       "      <td>Estimate</td>\n",
       "      <td>Seasonally adjusted</td>\n",
       "      <td>Persons in thousands</td>\n",
       "      <td>428</td>\n",
       "      <td>thousands</td>\n",
       "      <td>3</td>\n",
       "      <td>v2062836</td>\n",
       "      <td>1.1.1.2.1.1</td>\n",
       "      <td>4509.9</td>\n",
       "      <td>NaN</td>\n",
       "      <td>NaN</td>\n",
       "      <td>NaN</td>\n",
       "      <td>1</td>\n",
       "    </tr>\n",
       "  </tbody>\n",
       "</table>\n",
       "</div>"
      ],
      "text/plain": [
       "  REF_DATE     GEO           DGUID Labour force characteristics  \\\n",
       "0  1976-01  Canada  2021A000011124                   Population   \n",
       "1  1976-01  Canada  2021A000011124                   Population   \n",
       "2  1976-01  Canada  2021A000011124                   Population   \n",
       "3  1976-01  Canada  2021A000011124                   Population   \n",
       "4  1976-01  Canada  2021A000011124                   Population   \n",
       "\n",
       "           Gender          Age group Statistics            Data type  \\\n",
       "0  Total - Gender  15 years and over   Estimate  Seasonally adjusted   \n",
       "1  Total - Gender  15 years and over   Estimate           Unadjusted   \n",
       "2  Total - Gender     15 to 64 years   Estimate  Seasonally adjusted   \n",
       "3  Total - Gender     15 to 64 years   Estimate           Unadjusted   \n",
       "4  Total - Gender     15 to 24 years   Estimate  Seasonally adjusted   \n",
       "\n",
       "                    UOM  UOM_ID SCALAR_FACTOR  SCALAR_ID     VECTOR  \\\n",
       "0  Persons in thousands     428     thousands          3   v2062809   \n",
       "1  Persons in thousands     428     thousands          3   v2064888   \n",
       "2  Persons in thousands     428     thousands          3  v21580997   \n",
       "3  Persons in thousands     428     thousands          3  v21580998   \n",
       "4  Persons in thousands     428     thousands          3   v2062836   \n",
       "\n",
       "    COORDINATE    VALUE STATUS  SYMBOL  TERMINATED  DECIMALS  \n",
       "0  1.1.1.1.1.1  16852.4    NaN     NaN         NaN         1  \n",
       "1  1.1.1.1.1.2  16852.4    NaN     NaN         NaN         1  \n",
       "2  1.1.1.8.1.1  15015.9    NaN     NaN         NaN         1  \n",
       "3  1.1.1.8.1.2  15015.9    NaN     NaN         NaN         1  \n",
       "4  1.1.1.2.1.1   4509.9    NaN     NaN         NaN         1  "
      ]
     },
     "execution_count": 4,
     "metadata": {},
     "output_type": "execute_result"
    }
   ],
   "source": [
    "#Confirm it loaded\n",
    "print(\"✅ Raw shape:\", df_unemp.shape)\n",
    "print(\"✅ Columns:\", df_unemp.columns.tolist())\n",
    "df_unemp.head()"
   ]
  },
  {
   "cell_type": "code",
   "execution_count": 5,
   "id": "83288974-5ed6-43eb-a7bb-6cbe1f4ddf53",
   "metadata": {},
   "outputs": [
    {
     "name": "stdout",
     "output_type": "stream",
     "text": [
      "['Population' 'Labour force' 'Employment' 'Full-time employment'\n",
      " 'Part-time employment' 'Unemployment' 'Unemployment rate'\n",
      " 'Participation rate' 'Employment rate']\n"
     ]
    }
   ],
   "source": [
    "#Values we need\n",
    "print(df_unemp[\"Labour force characteristics\"].unique())\n"
   ]
  },
  {
   "cell_type": "code",
   "execution_count": 6,
   "id": "54227ab5-8e6a-49b5-90ad-7c4d341b1e95",
   "metadata": {},
   "outputs": [
    {
     "name": "stdout",
     "output_type": "stream",
     "text": [
      "['Total - Gender' 'Men+' 'Women+']\n"
     ]
    }
   ],
   "source": [
    "print(df_unemp[\"Gender\"].unique())"
   ]
  },
  {
   "cell_type": "code",
   "execution_count": 7,
   "id": "914ab76d-9b6c-48a6-a5f5-9222ec86cfdb",
   "metadata": {},
   "outputs": [
    {
     "name": "stdout",
     "output_type": "stream",
     "text": [
      "['15 years and over' '15 to 64 years' '15 to 24 years' '15 to 19 years'\n",
      " '20 to 24 years' '25 years and over' '25 to 54 years' '55 years and over'\n",
      " '55 to 64 years']\n"
     ]
    }
   ],
   "source": [
    "print(df_unemp[\"Age group\"].unique())"
   ]
  },
  {
   "cell_type": "code",
   "execution_count": 8,
   "id": "5b92cc54-c409-4d5c-92b5-41351d36e09c",
   "metadata": {},
   "outputs": [
    {
     "name": "stdout",
     "output_type": "stream",
     "text": [
      "Filtered shape: (32670, 3)\n"
     ]
    }
   ],
   "source": [
    "#Filtering for needed and renamed columns\n",
    "df_unemp = df_unemp[\n",
    "    (df_unemp[\"Gender\"] == \"Total - Gender\") &\n",
    "    (df_unemp[\"Age group\"] == \"15 years and over\") &\n",
    "    (df_unemp[\"Labour force characteristics\"] == \"Unemployment rate\")\n",
    "]\n",
    "df_unemp = df_unemp[[\"REF_DATE\", \"GEO\", \"VALUE\"]]\n",
    "df_unemp.rename(columns={\"VALUE\": \"Unemployment_Rate\"}, inplace=True)\n",
    "\n",
    "print(\"Filtered shape:\", df_unemp.shape)"
   ]
  },
  {
   "cell_type": "code",
   "execution_count": 9,
   "id": "9fa0105c-2eb0-457e-9b68-d51ff7b9d74f",
   "metadata": {},
   "outputs": [
    {
     "data": {
      "text/html": [
       "<div>\n",
       "<style scoped>\n",
       "    .dataframe tbody tr th:only-of-type {\n",
       "        vertical-align: middle;\n",
       "    }\n",
       "\n",
       "    .dataframe tbody tr th {\n",
       "        vertical-align: top;\n",
       "    }\n",
       "\n",
       "    .dataframe thead th {\n",
       "        text-align: right;\n",
       "    }\n",
       "</style>\n",
       "<table border=\"1\" class=\"dataframe\">\n",
       "  <thead>\n",
       "    <tr style=\"text-align: right;\">\n",
       "      <th></th>\n",
       "      <th>REF_DATE</th>\n",
       "      <th>GEO</th>\n",
       "      <th>Unemployment_Rate</th>\n",
       "    </tr>\n",
       "  </thead>\n",
       "  <tbody>\n",
       "    <tr>\n",
       "      <th>636</th>\n",
       "      <td>1976-01</td>\n",
       "      <td>Canada</td>\n",
       "      <td>7.1</td>\n",
       "    </tr>\n",
       "    <tr>\n",
       "      <th>637</th>\n",
       "      <td>1976-01</td>\n",
       "      <td>Canada</td>\n",
       "      <td>8.1</td>\n",
       "    </tr>\n",
       "    <tr>\n",
       "      <th>638</th>\n",
       "      <td>1976-01</td>\n",
       "      <td>Canada</td>\n",
       "      <td>NaN</td>\n",
       "    </tr>\n",
       "    <tr>\n",
       "      <th>639</th>\n",
       "      <td>1976-01</td>\n",
       "      <td>Canada</td>\n",
       "      <td>NaN</td>\n",
       "    </tr>\n",
       "    <tr>\n",
       "      <th>640</th>\n",
       "      <td>1976-01</td>\n",
       "      <td>Canada</td>\n",
       "      <td>NaN</td>\n",
       "    </tr>\n",
       "  </tbody>\n",
       "</table>\n",
       "</div>"
      ],
      "text/plain": [
       "    REF_DATE     GEO  Unemployment_Rate\n",
       "636  1976-01  Canada                7.1\n",
       "637  1976-01  Canada                8.1\n",
       "638  1976-01  Canada                NaN\n",
       "639  1976-01  Canada                NaN\n",
       "640  1976-01  Canada                NaN"
      ]
     },
     "execution_count": 9,
     "metadata": {},
     "output_type": "execute_result"
    }
   ],
   "source": [
    "df_unemp.head()"
   ]
  },
  {
   "cell_type": "code",
   "execution_count": 10,
   "id": "de134c35-14c4-4c48-8577-b13d288ce2a6",
   "metadata": {},
   "outputs": [],
   "source": [
    "#CPI - Get API Link\n",
    "table_id = \"18100004\"\n",
    "meta_url = f\"https://www150.statcan.gc.ca/t1/wds/rest/getFullTableDownloadCSV/{table_id}/en\"\n",
    "meta = requests.get(meta_url).json()\n",
    "zip_url = meta['object']"
   ]
  },
  {
   "cell_type": "code",
   "execution_count": 11,
   "id": "d03226b5-a254-4a6b-ae46-8ff3c285c05c",
   "metadata": {},
   "outputs": [],
   "source": [
    "#Download CSV\n",
    "response = requests.get(zip_url)\n",
    "with zipfile.ZipFile(io.BytesIO(response.content)) as z:\n",
    "    for file_name in z.namelist():\n",
    "        if file_name.endswith(\".csv\") and \"MetaData\" not in file_name:\n",
    "            with z.open(file_name) as f:\n",
    "                df_cpi = pd.read_csv(f, low_memory=False)"
   ]
  },
  {
   "cell_type": "code",
   "execution_count": 12,
   "id": "84534739-ad5f-4af6-9590-a059d5c94411",
   "metadata": {},
   "outputs": [
    {
     "name": "stdout",
     "output_type": "stream",
     "text": [
      "['REF_DATE', 'GEO', 'DGUID', 'Products and product groups', 'UOM', 'UOM_ID', 'SCALAR_FACTOR', 'SCALAR_ID', 'VECTOR', 'COORDINATE', 'VALUE', 'STATUS', 'SYMBOL', 'TERMINATED', 'DECIMALS']\n"
     ]
    }
   ],
   "source": [
    "#Columns\n",
    "print(df_cpi.columns.tolist())"
   ]
  },
  {
   "cell_type": "code",
   "execution_count": 13,
   "id": "fd14ba63-8831-4ac1-afb0-e3316d17d29b",
   "metadata": {},
   "outputs": [
    {
     "data": {
      "text/html": [
       "<div>\n",
       "<style scoped>\n",
       "    .dataframe tbody tr th:only-of-type {\n",
       "        vertical-align: middle;\n",
       "    }\n",
       "\n",
       "    .dataframe tbody tr th {\n",
       "        vertical-align: top;\n",
       "    }\n",
       "\n",
       "    .dataframe thead th {\n",
       "        text-align: right;\n",
       "    }\n",
       "</style>\n",
       "<table border=\"1\" class=\"dataframe\">\n",
       "  <thead>\n",
       "    <tr style=\"text-align: right;\">\n",
       "      <th></th>\n",
       "      <th>REF_DATE</th>\n",
       "      <th>GEO</th>\n",
       "      <th>DGUID</th>\n",
       "      <th>Products and product groups</th>\n",
       "      <th>UOM</th>\n",
       "      <th>UOM_ID</th>\n",
       "      <th>SCALAR_FACTOR</th>\n",
       "      <th>SCALAR_ID</th>\n",
       "      <th>VECTOR</th>\n",
       "      <th>COORDINATE</th>\n",
       "      <th>VALUE</th>\n",
       "      <th>STATUS</th>\n",
       "      <th>SYMBOL</th>\n",
       "      <th>TERMINATED</th>\n",
       "      <th>DECIMALS</th>\n",
       "    </tr>\n",
       "  </thead>\n",
       "  <tbody>\n",
       "    <tr>\n",
       "      <th>0</th>\n",
       "      <td>1914-01</td>\n",
       "      <td>Canada</td>\n",
       "      <td>2016A000011124</td>\n",
       "      <td>All-items</td>\n",
       "      <td>2002=100</td>\n",
       "      <td>17</td>\n",
       "      <td>units</td>\n",
       "      <td>0</td>\n",
       "      <td>v41690973</td>\n",
       "      <td>2.200</td>\n",
       "      <td>6.0</td>\n",
       "      <td>NaN</td>\n",
       "      <td>NaN</td>\n",
       "      <td>NaN</td>\n",
       "      <td>1</td>\n",
       "    </tr>\n",
       "    <tr>\n",
       "      <th>1</th>\n",
       "      <td>1914-01</td>\n",
       "      <td>Canada</td>\n",
       "      <td>2016A000011124</td>\n",
       "      <td>All-items (1992=100)</td>\n",
       "      <td>1992=100</td>\n",
       "      <td>7</td>\n",
       "      <td>units</td>\n",
       "      <td>0</td>\n",
       "      <td>v41713403</td>\n",
       "      <td>2.309</td>\n",
       "      <td>7.2</td>\n",
       "      <td>NaN</td>\n",
       "      <td>NaN</td>\n",
       "      <td>t</td>\n",
       "      <td>1</td>\n",
       "    </tr>\n",
       "    <tr>\n",
       "      <th>2</th>\n",
       "      <td>1914-01</td>\n",
       "      <td>Canada</td>\n",
       "      <td>2016A000011124</td>\n",
       "      <td>Goods and services</td>\n",
       "      <td>2002=100</td>\n",
       "      <td>17</td>\n",
       "      <td>units</td>\n",
       "      <td>0</td>\n",
       "      <td>v41691221</td>\n",
       "      <td>2.273</td>\n",
       "      <td>6.0</td>\n",
       "      <td>NaN</td>\n",
       "      <td>NaN</td>\n",
       "      <td>t</td>\n",
       "      <td>1</td>\n",
       "    </tr>\n",
       "    <tr>\n",
       "      <th>3</th>\n",
       "      <td>1914-02</td>\n",
       "      <td>Canada</td>\n",
       "      <td>2016A000011124</td>\n",
       "      <td>All-items</td>\n",
       "      <td>2002=100</td>\n",
       "      <td>17</td>\n",
       "      <td>units</td>\n",
       "      <td>0</td>\n",
       "      <td>v41690973</td>\n",
       "      <td>2.200</td>\n",
       "      <td>6.0</td>\n",
       "      <td>NaN</td>\n",
       "      <td>NaN</td>\n",
       "      <td>NaN</td>\n",
       "      <td>1</td>\n",
       "    </tr>\n",
       "    <tr>\n",
       "      <th>4</th>\n",
       "      <td>1914-02</td>\n",
       "      <td>Canada</td>\n",
       "      <td>2016A000011124</td>\n",
       "      <td>All-items (1992=100)</td>\n",
       "      <td>1992=100</td>\n",
       "      <td>7</td>\n",
       "      <td>units</td>\n",
       "      <td>0</td>\n",
       "      <td>v41713403</td>\n",
       "      <td>2.309</td>\n",
       "      <td>7.2</td>\n",
       "      <td>NaN</td>\n",
       "      <td>NaN</td>\n",
       "      <td>t</td>\n",
       "      <td>1</td>\n",
       "    </tr>\n",
       "  </tbody>\n",
       "</table>\n",
       "</div>"
      ],
      "text/plain": [
       "  REF_DATE     GEO           DGUID Products and product groups       UOM  \\\n",
       "0  1914-01  Canada  2016A000011124                   All-items  2002=100   \n",
       "1  1914-01  Canada  2016A000011124        All-items (1992=100)  1992=100   \n",
       "2  1914-01  Canada  2016A000011124          Goods and services  2002=100   \n",
       "3  1914-02  Canada  2016A000011124                   All-items  2002=100   \n",
       "4  1914-02  Canada  2016A000011124        All-items (1992=100)  1992=100   \n",
       "\n",
       "   UOM_ID SCALAR_FACTOR  SCALAR_ID     VECTOR  COORDINATE  VALUE STATUS  \\\n",
       "0      17         units          0  v41690973       2.200    6.0    NaN   \n",
       "1       7         units          0  v41713403       2.309    7.2    NaN   \n",
       "2      17         units          0  v41691221       2.273    6.0    NaN   \n",
       "3      17         units          0  v41690973       2.200    6.0    NaN   \n",
       "4       7         units          0  v41713403       2.309    7.2    NaN   \n",
       "\n",
       "   SYMBOL TERMINATED  DECIMALS  \n",
       "0     NaN        NaN         1  \n",
       "1     NaN          t         1  \n",
       "2     NaN          t         1  \n",
       "3     NaN        NaN         1  \n",
       "4     NaN          t         1  "
      ]
     },
     "execution_count": 13,
     "metadata": {},
     "output_type": "execute_result"
    }
   ],
   "source": [
    "df_cpi.head()"
   ]
  },
  {
   "cell_type": "code",
   "execution_count": 14,
   "id": "08373336-b390-4809-9439-07586607f1af",
   "metadata": {},
   "outputs": [
    {
     "name": "stdout",
     "output_type": "stream",
     "text": [
      "['All-items' 'All-items (1992=100)' 'Goods and services' 'Food'\n",
      " 'Fresh or frozen poultry' 'Fresh or frozen chicken' 'Dairy products'\n",
      " 'Fresh milk' 'Butter' 'Bakery and cereal products (excluding baby food)'\n",
      " 'Breakfast cereal and other cereal products (excluding baby food)'\n",
      " 'Flour and flour-based mixes' 'Fresh fruit' 'Apples' 'Oranges' 'Bananas'\n",
      " 'Fresh vegetables' 'Potatoes' 'Tomatoes' 'Lettuce' 'Rented accommodation'\n",
      " 'Rent' \"Tenants' insurance premiums\" 'Owned accommodation'\n",
      " 'Mortgage interest cost' \"Homeowners' replacement cost\"\n",
      " 'Property taxes and other special charges'\n",
      " \"Homeowners' home and mortgage insurance\"\n",
      " \"Homeowners' maintenance and repairs\" 'Water, fuel and electricity'\n",
      " 'Electricity' 'Natural gas' 'Fuel oil and other fuels'\n",
      " 'Telephone services' 'Postal and other communications services'\n",
      " 'Furniture' 'Area rugs and mats' 'Clothing and footwear'\n",
      " 'Dry cleaning services' 'Other clothing services' 'Transportation'\n",
      " 'Private transportation' 'Purchase and leasing of passenger vehicles'\n",
      " 'Purchase of passenger vehicles' 'Gasoline'\n",
      " 'Passenger vehicle insurance premiums'\n",
      " 'Local and commuter transportation' 'City bus and subway transportation'\n",
      " 'Taxi and other local and commuter transportation services'\n",
      " 'Inter-city transportation' 'Health and personal care' 'Health care'\n",
      " 'Dental care services' 'Personal care' 'Personal soap'\n",
      " 'Oral-hygiene products' 'Personal care services'\n",
      " 'Recreation, education and reading' 'Recreation'\n",
      " 'Reading material (excluding textbooks)' 'Newspapers'\n",
      " 'Alcoholic beverages, tobacco products and recreational cannabis'\n",
      " 'Alcoholic beverages' 'Beer purchased from stores'\n",
      " 'Liquor purchased from stores' \"Tobacco products and smokers' supplies\"\n",
      " 'Cigarettes' 'All-items excluding food' 'Housing (1986 definition)'\n",
      " 'Food purchased from stores' 'Other fresh or frozen poultry' 'Eggs'\n",
      " 'Margarine' 'Tea' 'Non-alcoholic beverages'\n",
      " 'Food purchased from restaurants'\n",
      " \"Tenants' maintenance, repairs and other expenses\"\n",
      " 'Household cleaning products' 'Footwear'\n",
      " 'Operation of passenger vehicles' 'Public transportation'\n",
      " 'Air transportation'\n",
      " 'Other home entertainment equipment, parts and services'\n",
      " 'All-items excluding food and energy' 'Energy' 'Goods' 'Durable goods'\n",
      " 'Semi-durable goods' 'Non-durable goods'\n",
      " 'Non-durable goods excluding food purchased from stores'\n",
      " 'Goods excluding food purchased from stores'\n",
      " 'Goods excluding food purchased from stores and energy' 'Services'\n",
      " 'Services excluding shelter services' 'Ice cream and related products'\n",
      " 'Fresh or frozen beef' 'Dairy products and eggs' 'Bakery products'\n",
      " 'Sugar and confectionery' 'Coffee and tea' 'Communications'\n",
      " 'Paper, plastic and aluminum foil supplies'\n",
      " 'Household furnishings and equipment'\n",
      " \"Women's footwear (excluding athletic)\"\n",
      " 'Clothing material, notions and services'\n",
      " 'Personal care supplies and equipment' 'Magazines and periodicals'\n",
      " 'All-items excluding energy' 'Food and energy'\n",
      " 'Other edible fats and oils' 'Water' 'Jewellery' 'Laundry services'\n",
      " 'Parking fees' 'Traveller accommodation' 'Education' 'Tuition fees'\n",
      " 'Beer served in licensed establishments'\n",
      " 'Liquor served in licensed establishments' 'Wine purchased from stores'\n",
      " 'Housekeeping services' \"Children's clothing\"\n",
      " 'All other passenger vehicle operating expenses' 'Meat'\n",
      " 'Fresh or frozen meat (excluding poultry)' 'Fresh or frozen pork' 'Fish'\n",
      " 'Canned and other preserved fish' 'Seafood and other marine products'\n",
      " 'Rice and rice-based mixes' 'Pasta products'\n",
      " 'Fruit, fruit preparations and nuts'\n",
      " 'Vegetables and vegetable preparations'\n",
      " 'Canned vegetables and other vegetable preparations'\n",
      " 'Edible fats and oils' 'Coffee' 'Condiments, spices and vinegars'\n",
      " 'Other food preparations' 'Soup' 'Baby foods' 'Frozen food preparations'\n",
      " 'Shelter' 'Household operations, furnishings and equipment'\n",
      " 'Household operations' 'Child care services'\n",
      " 'Detergents and soaps (other than personal care)'\n",
      " 'Other horticultural goods' 'Other household supplies'\n",
      " 'Furniture and household textiles' 'Upholstered furniture'\n",
      " 'Wooden furniture' 'Household equipment' 'Household appliances'\n",
      " 'Refrigerators and freezers'\n",
      " 'Services related to household furnishings and equipment'\n",
      " 'Athletic footwear' 'Clothing material and notions'\n",
      " 'Rental of passenger vehicles'\n",
      " 'Passenger vehicle maintenance and repair services'\n",
      " 'Medicinal and pharmaceutical products' 'Other health care goods'\n",
      " 'Toiletry items and cosmetics'\n",
      " 'Recreational equipment and services (excluding recreational vehicles)'\n",
      " 'Sporting and exercise equipment'\n",
      " 'Purchase and operation of recreational vehicles'\n",
      " 'Purchase of recreational vehicles and outboard motors'\n",
      " 'Operation of recreational vehicles'\n",
      " 'Home entertainment equipment, parts and services' 'Travel tours'\n",
      " 'Video and audio subscription services'\n",
      " 'Use of recreational facilities and services'\n",
      " 'Other lessons, courses and education services'\n",
      " 'Alcoholic beverages served in licensed establishments'\n",
      " 'Alcoholic beverages purchased from stores' 'Shelter (1986 definition)'\n",
      " \"All-items excluding alcoholic beverages, tobacco products and smokers' supplies and recreational cannabis\"\n",
      " 'Fresh fruit and vegetables'\n",
      " 'Non-durable goods excluding food purchased from stores and energy'\n",
      " 'Clothing' \"Women's clothing\" \"Men's clothing\"\n",
      " 'All-items excluding mortgage interest cost'\n",
      " 'All-items excluding alcoholic beverages and recreational cannabis'\n",
      " \"All-items excluding tobacco products and smokers' supplies and recreational cannabis\"\n",
      " 'All-items excluding shelter'\n",
      " 'Other fresh or frozen meat (excluding poultry)' 'Processed meat'\n",
      " 'Ham and bacon' 'Other processed meat'\n",
      " 'Fish, seafood and other marine products'\n",
      " 'Fresh or frozen fish (including portions and fish sticks)' 'Cheese'\n",
      " 'Other dairy products' 'Bread, rolls and buns' 'Cookies and crackers'\n",
      " 'Other bakery products' 'Cereal products (excluding baby food)'\n",
      " 'Other fresh fruit' 'Preserved fruit and fruit preparations'\n",
      " 'Fruit juices' 'Other preserved fruit and fruit preparations'\n",
      " 'Nuts and seeds' 'Other fresh vegetables'\n",
      " 'Preserved vegetables and vegetable preparations'\n",
      " 'Frozen and dried vegetables'\n",
      " 'Other food products and non-alcoholic beverages' 'Sugar and syrup'\n",
      " 'Confectionery' 'All other food preparations'\n",
      " 'Food purchased from table-service restaurants'\n",
      " 'Food purchased from fast food and take-out restaurants'\n",
      " 'Child care and housekeeping services'\n",
      " 'Other household cleaning products' 'Paper supplies'\n",
      " 'Plastic and aluminum foil supplies' 'Other household goods and services'\n",
      " 'Pet food and supplies' 'Seeds, plants and cut flowers'\n",
      " 'Household textiles' 'Window coverings'\n",
      " 'Bedding and other household textiles' 'Cooking appliances'\n",
      " 'Laundry and dishwashing appliances' 'Other household appliances'\n",
      " 'Non-electric kitchen utensils, tableware and cookware'\n",
      " 'Household tools (including lawn, garden and snow removal equipment)'\n",
      " \"Men's footwear (excluding athletic)\"\n",
      " 'Clothing accessories, watches and jewellery'\n",
      " 'Leather clothing accessories' 'Watches'\n",
      " 'Purchase, leasing and rental of passenger vehicles'\n",
      " 'Passenger vehicle parts, maintenance and repairs'\n",
      " 'Passenger vehicle parts, accessories and supplies'\n",
      " 'Other passenger vehicle operating expenses'\n",
      " 'Passenger vehicle registration fees' \"Drivers' licences\"\n",
      " 'Rail, highway bus and other inter-city transportation'\n",
      " 'Health care goods' 'Prescribed medicines (excluding medicinal cannabis)'\n",
      " 'Non-prescribed medicines' 'Eye care goods' 'Health care services'\n",
      " 'Other personal care supplies and equipment'\n",
      " 'Toys, games (excluding video games) and hobby supplies'\n",
      " 'Photographic equipment and supplies' 'Recreational services'\n",
      " 'Audio equipment' 'Video equipment' 'Travel services'\n",
      " 'Other cultural and recreational services'\n",
      " 'Spectator entertainment (excluding video and audio subscription services)'\n",
      " 'Education and reading'\n",
      " 'Books and reading material (excluding textbooks)'\n",
      " 'Rental of digital media'\n",
      " 'Food purchased from cafeterias and other restaurants'\n",
      " 'Other owned accommodation expenses' 'Other household services'\n",
      " 'Other furniture' 'Tools and other household equipment'\n",
      " 'Other household equipment' \"Children's footwear (excluding athletic)\"\n",
      " 'Other clothing accessories' 'Other health care services'\n",
      " 'Digital computing equipment and devices' 'Other recreational equipment'\n",
      " 'Fuel, parts and accessories for recreational vehicles'\n",
      " 'Insurance, licences and other services for recreational vehicles'\n",
      " 'School textbooks and supplies' 'Wine served in licensed establishments'\n",
      " \"Other tobacco products and smokers' supplies\"\n",
      " 'Leasing of passenger vehicles' 'All-items excluding gasoline'\n",
      " 'All-items excluding shelter, insurance and financial services'\n",
      " 'Private transportation excluding gasoline' 'Purchase of digital media'\n",
      " 'Internet access services (200212=100)' 'Financial services (200212=100)'\n",
      " 'Eye care services (200704=100)' 'Telephone equipment (201104=100)'\n",
      " 'Computer equipment, software and supplies (201104=100)'\n",
      " 'Multipurpose digital devices (201104=100)' 'Bacon (2013=100)'\n",
      " 'Ham excluding deli ham (2013=100)' 'Canned salmon (2013=100)'\n",
      " 'Canned tuna (2013=100)' 'Shrimps and prawns (2013=100)'\n",
      " 'Other shellfish (2013=100)' 'Whole milk (2013=100)'\n",
      " 'Low-fat milk (2013=100)' 'Cheddar cheese (2013=100)'\n",
      " 'Processed cheese (2013=100)' 'Unripened or fresh cheese (2013=100)'\n",
      " 'Mozzarella cheese (2013=100)' 'Crackers and crisp breads (2013=100)'\n",
      " 'Cookies and sweet biscuits (2013=100)' 'Dry or fresh pasta (2013=100)'\n",
      " 'Pasta mixes (2013=100)' 'Canned fruit (2013=100)'\n",
      " 'Jam, jelly and other preserves (2013=100)'\n",
      " 'Dried and dehydrated fruit (2013=100)' 'Frozen fruit (2013=100)'\n",
      " 'Roasted or ground coffee (2013=100)'\n",
      " 'Instant and other coffee (2013=100)'\n",
      " 'Fermented or pickled vegetables (2013=100)'\n",
      " 'Sauces, condiments and dips (2013=100)'\n",
      " 'Herbs, spices and seasonings (2013=100)'\n",
      " 'Canned infant or junior foods (2013=100)' 'Infant formula (2013=100)'\n",
      " 'Nut butter (2013=100)'\n",
      " 'Potato chips and other snack products n.e.c. (2013=100)'\n",
      " 'All other miscellaneous food preparations (2013=100)'\n",
      " 'Laundry detergents and soaps (2013=100)'\n",
      " 'Detergents and rinse agents for dish washing (2013=100)'\n",
      " 'Household cleaning and polishing products (2013=100)'\n",
      " 'Bleach and other household chemical products (2013=100)'\n",
      " 'Fabric softener (2013=100)' 'Household paper supplies (2013=100)'\n",
      " 'Stationery (2013=100)' 'Plastic supplies (2013=100)'\n",
      " 'Foil supplies (2013=100)' 'Clothing accessories (2013=100)'\n",
      " 'Purchase of automobiles (2013=100)'\n",
      " 'Purchase of trucks, vans and sport utility vehicles (2013=100)'\n",
      " 'Prescription eyeglasses (2013=100)' 'Contact lenses (2013=100)'\n",
      " 'Other eye care goods (2013=100)'\n",
      " 'Creams, lotions and cosmetics (2013=100)'\n",
      " 'Perfume and cologne (2013=100)'\n",
      " 'Hair preparations and other toilet preparations (2013=100)'\n",
      " 'Cellular services (2017=100)' 'Medicinal cannabis (201812=100)'\n",
      " 'Recreational cannabis (201812=100)'\n",
      " 'Digital economy services (201812=100)'\n",
      " 'Purchase of new passenger vehicles (202204=100)'\n",
      " 'Purchase of used passenger vehicles (202204=100)'\n",
      " 'Citrus (excluding oranges) (202304=100)' 'Grapes (202304=100)'\n",
      " 'Berries (including cherries) (202304=100)' 'Carrots (202304=100)'\n",
      " 'Onions (202304=100)' 'Peppers (202304=100)' 'Cucumber (202304=100)'\n",
      " 'Mushrooms (202304=100)' 'Cellular services (202304=100)'\n",
      " 'Fresh or frozen beef hip cuts (202404=100)'\n",
      " 'Fresh or frozen beef loin cuts (202404=100)'\n",
      " 'Fresh or frozen beef rib cuts (202404=100)'\n",
      " 'Fresh or frozen beef chuck cuts (202404=100)'\n",
      " 'Fresh stewing beef (202404=100)'\n",
      " 'Fresh or frozen ground beef (202404=100)'\n",
      " 'Other fresh or frozen beef (202404=100)'\n",
      " 'Fresh or frozen pork loin cuts (202404=100)'\n",
      " 'Fresh or frozen pork shoulder cuts (202404=100)'\n",
      " 'Other fresh or frozen pork (202404=100)'\n",
      " 'Fresh or frozen chicken breasts (202404=100)'\n",
      " 'Fresh or frozen chicken thighs (202404=100)'\n",
      " 'Fresh or frozen chicken drumsticks (202404=100)'\n",
      " 'Fresh or frozen whole chicken (202404=100)'\n",
      " 'Other fresh or frozen chicken (202404=100)']\n"
     ]
    }
   ],
   "source": [
    "print(df_cpi[\"Products and product groups\"].unique())"
   ]
  },
  {
   "cell_type": "code",
   "execution_count": 15,
   "id": "cd41cfa0-ae88-4b58-93e6-7edb2887f617",
   "metadata": {},
   "outputs": [],
   "source": [
    "# Filter for \"All-items\" only\n",
    "df_cpi_cleaned = df_cpi[df_cpi[\"Products and product groups\"] == \"All-items\"]\n",
    "\n",
    "# Focus on Canada (you can filter other GEOs if needed)\n",
    "df_cpi_cleaned = df_cpi_cleaned[df_cpi_cleaned[\"GEO\"] == \"Canada\"]\n",
    "\n",
    "# Keep only relevant columns\n",
    "df_cpi_cleaned = df_cpi_cleaned[[\"REF_DATE\", \"GEO\", \"VALUE\"]]\n",
    "\n",
    "# Rename for clarity\n",
    "df_cpi_cleaned.rename(columns={\"VALUE\": \"CPI\"}, inplace=True)\n",
    "\n",
    "# Convert REF_DATE to datetime for consistency with COVID dataset\n",
    "df_cpi_cleaned[\"REF_DATE\"] = pd.to_datetime(df_cpi_cleaned[\"REF_DATE\"])\n",
    "\n",
    "# Round values\n",
    "df_cpi_cleaned[\"CPI\"] = df_cpi_cleaned[\"CPI\"].round(2)"
   ]
  },
  {
   "cell_type": "code",
   "execution_count": 16,
   "id": "4d9fcbac-07f1-454c-941f-a702f36b054a",
   "metadata": {},
   "outputs": [
    {
     "data": {
      "text/html": [
       "<div>\n",
       "<style scoped>\n",
       "    .dataframe tbody tr th:only-of-type {\n",
       "        vertical-align: middle;\n",
       "    }\n",
       "\n",
       "    .dataframe tbody tr th {\n",
       "        vertical-align: top;\n",
       "    }\n",
       "\n",
       "    .dataframe thead th {\n",
       "        text-align: right;\n",
       "    }\n",
       "</style>\n",
       "<table border=\"1\" class=\"dataframe\">\n",
       "  <thead>\n",
       "    <tr style=\"text-align: right;\">\n",
       "      <th></th>\n",
       "      <th>REF_DATE</th>\n",
       "      <th>GEO</th>\n",
       "      <th>CPI</th>\n",
       "    </tr>\n",
       "  </thead>\n",
       "  <tbody>\n",
       "    <tr>\n",
       "      <th>0</th>\n",
       "      <td>1914-01-01</td>\n",
       "      <td>Canada</td>\n",
       "      <td>6.0</td>\n",
       "    </tr>\n",
       "    <tr>\n",
       "      <th>3</th>\n",
       "      <td>1914-02-01</td>\n",
       "      <td>Canada</td>\n",
       "      <td>6.0</td>\n",
       "    </tr>\n",
       "    <tr>\n",
       "      <th>6</th>\n",
       "      <td>1914-03-01</td>\n",
       "      <td>Canada</td>\n",
       "      <td>6.0</td>\n",
       "    </tr>\n",
       "    <tr>\n",
       "      <th>9</th>\n",
       "      <td>1914-04-01</td>\n",
       "      <td>Canada</td>\n",
       "      <td>6.0</td>\n",
       "    </tr>\n",
       "    <tr>\n",
       "      <th>12</th>\n",
       "      <td>1914-05-01</td>\n",
       "      <td>Canada</td>\n",
       "      <td>5.9</td>\n",
       "    </tr>\n",
       "  </tbody>\n",
       "</table>\n",
       "</div>"
      ],
      "text/plain": [
       "     REF_DATE     GEO  CPI\n",
       "0  1914-01-01  Canada  6.0\n",
       "3  1914-02-01  Canada  6.0\n",
       "6  1914-03-01  Canada  6.0\n",
       "9  1914-04-01  Canada  6.0\n",
       "12 1914-05-01  Canada  5.9"
      ]
     },
     "execution_count": 16,
     "metadata": {},
     "output_type": "execute_result"
    }
   ],
   "source": [
    "df_cpi_cleaned.head()"
   ]
  },
  {
   "cell_type": "code",
   "execution_count": 17,
   "id": "23f20a0c-a75c-499d-9938-301c7cf5cd7a",
   "metadata": {},
   "outputs": [],
   "source": [
    "# Load the dataset for COVID\n",
    "df_covid = pd.read_csv(\"daily-new-confirmed-covid-19-cases-per-million-people.csv\")"
   ]
  },
  {
   "cell_type": "code",
   "execution_count": 18,
   "id": "0aa0676a-bd2d-4ba0-9a31-ad6ae8e8875f",
   "metadata": {},
   "outputs": [
    {
     "data": {
      "text/plain": [
       "['Entity',\n",
       " 'Day',\n",
       " 'Daily new confirmed cases of COVID-19 per million people (rolling 7-day average, right-aligned)']"
      ]
     },
     "execution_count": 18,
     "metadata": {},
     "output_type": "execute_result"
    }
   ],
   "source": [
    "df_covid.columns.tolist()"
   ]
  },
  {
   "cell_type": "code",
   "execution_count": 19,
   "id": "4d1c492f-b1ef-4169-9727-ab903783de38",
   "metadata": {},
   "outputs": [
    {
     "data": {
      "text/html": [
       "<div>\n",
       "<style scoped>\n",
       "    .dataframe tbody tr th:only-of-type {\n",
       "        vertical-align: middle;\n",
       "    }\n",
       "\n",
       "    .dataframe tbody tr th {\n",
       "        vertical-align: top;\n",
       "    }\n",
       "\n",
       "    .dataframe thead th {\n",
       "        text-align: right;\n",
       "    }\n",
       "</style>\n",
       "<table border=\"1\" class=\"dataframe\">\n",
       "  <thead>\n",
       "    <tr style=\"text-align: right;\">\n",
       "      <th></th>\n",
       "      <th>Entity</th>\n",
       "      <th>Day</th>\n",
       "      <th>Daily new confirmed cases of COVID-19 per million people (rolling 7-day average, right-aligned)</th>\n",
       "    </tr>\n",
       "  </thead>\n",
       "  <tbody>\n",
       "    <tr>\n",
       "      <th>0</th>\n",
       "      <td>Afghanistan</td>\n",
       "      <td>2020-01-09</td>\n",
       "      <td>0.0</td>\n",
       "    </tr>\n",
       "    <tr>\n",
       "      <th>1</th>\n",
       "      <td>Afghanistan</td>\n",
       "      <td>2020-01-10</td>\n",
       "      <td>0.0</td>\n",
       "    </tr>\n",
       "    <tr>\n",
       "      <th>2</th>\n",
       "      <td>Afghanistan</td>\n",
       "      <td>2020-01-11</td>\n",
       "      <td>0.0</td>\n",
       "    </tr>\n",
       "    <tr>\n",
       "      <th>3</th>\n",
       "      <td>Afghanistan</td>\n",
       "      <td>2020-01-12</td>\n",
       "      <td>0.0</td>\n",
       "    </tr>\n",
       "    <tr>\n",
       "      <th>4</th>\n",
       "      <td>Afghanistan</td>\n",
       "      <td>2020-01-13</td>\n",
       "      <td>0.0</td>\n",
       "    </tr>\n",
       "  </tbody>\n",
       "</table>\n",
       "</div>"
      ],
      "text/plain": [
       "        Entity         Day  \\\n",
       "0  Afghanistan  2020-01-09   \n",
       "1  Afghanistan  2020-01-10   \n",
       "2  Afghanistan  2020-01-11   \n",
       "3  Afghanistan  2020-01-12   \n",
       "4  Afghanistan  2020-01-13   \n",
       "\n",
       "   Daily new confirmed cases of COVID-19 per million people (rolling 7-day average, right-aligned)  \n",
       "0                                                0.0                                                \n",
       "1                                                0.0                                                \n",
       "2                                                0.0                                                \n",
       "3                                                0.0                                                \n",
       "4                                                0.0                                                "
      ]
     },
     "execution_count": 19,
     "metadata": {},
     "output_type": "execute_result"
    }
   ],
   "source": [
    "df_covid.head()"
   ]
  },
  {
   "cell_type": "code",
   "execution_count": 27,
   "id": "fb5776a1-aa11-4a9c-86e3-8035810cdbf1",
   "metadata": {},
   "outputs": [],
   "source": [
    "#Filter for Canada only\n",
    "df_covid_canada = df_covid[df_covid[\"Entity\"] == \"Canada\"].copy()"
   ]
  },
  {
   "cell_type": "code",
   "execution_count": 25,
   "id": "f64fb87a-8b6a-4fb3-ae82-8fea33124445",
   "metadata": {},
   "outputs": [],
   "source": [
    "#Rename columns for simplicity\n",
    "df_covid_canada.rename(columns={\n",
    "    \"Day\": \"REF_DATE\",\n",
    "    \"Daily new confirmed cases of COVID-19 per million people (rolling 7-day average, right-aligned)\": \"COVID_Cases_per_Million\"\n",
    "}, inplace=True)\n"
   ]
  },
  {
   "cell_type": "code",
   "execution_count": null,
   "id": "b514b51e-0bf2-452a-8d71-93573c246a9d",
   "metadata": {},
   "outputs": [],
   "source": [
    "df_covid_canada.head()"
   ]
  },
  {
   "cell_type": "code",
   "execution_count": null,
   "id": "eb1ca092-bef6-41c1-bd90-c9c402c081dc",
   "metadata": {},
   "outputs": [],
   "source": [
    "#Convert REF_DATE to datetime\n",
    "df_covid_canada[\"REF_DATE\"] = pd.to_datetime(df_covid_canada[\"REF_DATE\"])"
   ]
  },
  {
   "cell_type": "code",
   "execution_count": null,
   "id": "2af6b86a-0813-4bdc-b867-88463598fe29",
   "metadata": {},
   "outputs": [],
   "source": [
    "#Keep only relevant columns\n",
    "df_covid_canada = df_covid_canada[[\"REF_DATE\", \"COVID_Cases_per_Million\"]]"
   ]
  },
  {
   "cell_type": "code",
   "execution_count": null,
   "id": "451e4d51-7cdc-497a-88d5-157dc08048d8",
   "metadata": {},
   "outputs": [],
   "source": [
    "#Round for readability\n",
    "df_covid_canada[\"COVID_Cases_per_Million\"] = df_covid_canada[\"COVID_Cases_per_Million\"].round(2)"
   ]
  },
  {
   "cell_type": "code",
   "execution_count": null,
   "id": "ca02a2af-46fc-4e62-a441-f22488ce9f4a",
   "metadata": {},
   "outputs": [],
   "source": [
    "#Columns\n",
    "df_covid_canada.columns.tolist()"
   ]
  },
  {
   "cell_type": "code",
   "execution_count": null,
   "id": "38fcc90d-9809-4a70-b80f-5656875ab6fc",
   "metadata": {},
   "outputs": [],
   "source": [
    "#Preview\n",
    "df_covid_canada.head(10)"
   ]
  },
  {
   "cell_type": "code",
   "execution_count": null,
   "id": "ff763516-b6f2-4b16-8481-a059aa2ecb18",
   "metadata": {},
   "outputs": [],
   "source": [
    "# Convert REF_DATE or Day columns to datetime\n",
    "df_unemp[\"REF_DATE\"] = pd.to_datetime(df_unemp[\"REF_DATE\"])\n",
    "df_cpi_cleaned[\"REF_DATE\"] = pd.to_datetime(df_cpi_cleaned[\"REF_DATE\"])\n",
    "df_covid_canada[\"REF_DATE\"] = pd.to_datetime(df_covid_canada[\"REF_DATE\"])"
   ]
  },
  {
   "cell_type": "code",
   "execution_count": null,
   "id": "50534419-adc5-4029-a497-41846d979df1",
   "metadata": {},
   "outputs": [],
   "source": [
    "df_covid_canada.head()"
   ]
  },
  {
   "cell_type": "code",
   "execution_count": null,
   "id": "7e9e6c0e-a6e9-42f9-90df-86dd99025fd2",
   "metadata": {},
   "outputs": [],
   "source": [
    "# Start with CPI and Unemployment\n",
    "df_merged = pd.merge(df_cpi_cleaned, df_unemp, on=\"REF_DATE\", how=\"outer\")\n",
    "\n",
    "# Merge in COVID data\n",
    "df_merged = pd.merge(df_merged, df_covid_canada, on=\"REF_DATE\", how=\"outer\")\n",
    "\n",
    "# Sort by date\n",
    "df_merged.sort_values(\"REF_DATE\", inplace=True)"
   ]
  },
  {
   "cell_type": "code",
   "execution_count": null,
   "id": "a9b4cda6-2c8c-4bca-8118-cac8c1d58c63",
   "metadata": {},
   "outputs": [],
   "source": [
    "df_merged.head(100)"
   ]
  },
  {
   "cell_type": "code",
   "execution_count": null,
   "id": "ac153ada-1de3-4b94-8bf4-cb81b04749b8",
   "metadata": {},
   "outputs": [],
   "source": [
    "#Date adjustment from 2015 onwards\n",
    "df_unemp[\"REF_DATE\"] = pd.to_datetime(df_unemp[\"REF_DATE\"])\n",
    "df_cpi_cleaned[\"REF_DATE\"] = pd.to_datetime(df_cpi_cleaned[\"REF_DATE\"])\n",
    "df_covid_canada[\"REF_DATE\"] = pd.to_datetime(df_covid_canada[\"REF_DATE\"])\n"
   ]
  },
  {
   "cell_type": "code",
   "execution_count": null,
   "id": "7d787967-9023-4923-8972-11cbe2daff7a",
   "metadata": {},
   "outputs": [],
   "source": [
    "df_unemp = df_unemp[df_unemp[\"REF_DATE\"].dt.year >= 2015]\n",
    "df_cpi_cleaned = df_cpi_cleaned[df_cpi_cleaned[\"REF_DATE\"].dt.year >= 2015]\n",
    "df_covid_canada = df_covid_canada[df_covid_canada[\"REF_DATE\"].dt.year >= 2015]\n"
   ]
  },
  {
   "cell_type": "code",
   "execution_count": null,
   "id": "e2fbaad7-888e-4ce3-be9c-9ba08e2e358f",
   "metadata": {},
   "outputs": [],
   "source": [
    "df_unemp.reset_index(drop=True, inplace=True)\n",
    "df_cpi_cleaned.reset_index(drop=True, inplace=True)\n",
    "df_covid_canada.reset_index(drop=True, inplace=True)\n"
   ]
  },
  {
   "cell_type": "code",
   "execution_count": null,
   "id": "35e5031f-a7ca-48e9-82d9-8d38c41c510f",
   "metadata": {},
   "outputs": [],
   "source": [
    "# Start with CPI and Unemployment\n",
    "df_merged = pd.merge(df_cpi_cleaned, df_unemp, on=\"REF_DATE\", how=\"outer\")\n",
    "\n",
    "# Merge in COVID data\n",
    "df_merged = pd.merge(df_merged, df_covid_canada, on=\"REF_DATE\", how=\"outer\")\n",
    "\n",
    "# Sort by date\n",
    "df_merged.sort_values(\"REF_DATE\", inplace=True)"
   ]
  },
  {
   "cell_type": "code",
   "execution_count": null,
   "id": "de9a6cdd-1621-44fd-a492-e6d691043ad5",
   "metadata": {},
   "outputs": [],
   "source": [
    "df_merged.head(10)"
   ]
  },
  {
   "cell_type": "code",
   "execution_count": null,
   "id": "681546dc-e947-4c55-90a7-b59537be3cc6",
   "metadata": {},
   "outputs": [],
   "source": [
    "df_merged.drop(columns=[\"GEO_x\"], inplace=True)"
   ]
  },
  {
   "cell_type": "code",
   "execution_count": null,
   "id": "6e66f748-a064-4893-9c3b-a986dda80da6",
   "metadata": {},
   "outputs": [],
   "source": [
    "df_merged.head()"
   ]
  },
  {
   "cell_type": "code",
   "execution_count": null,
   "id": "e2c0e6ad-7635-49e2-9fd0-722baff07a4a",
   "metadata": {},
   "outputs": [],
   "source": [
    "df_merged.rename(columns={\"GEO_y\": \"GEO\"}, inplace=True)"
   ]
  },
  {
   "cell_type": "code",
   "execution_count": null,
   "id": "44e89612-69f1-4da1-ab7a-13edfd3c0dbe",
   "metadata": {},
   "outputs": [],
   "source": [
    "df_merged.head()"
   ]
  },
  {
   "cell_type": "code",
   "execution_count": null,
   "id": "bd0cb1e6-086b-484a-a51c-6bf1c99ea312",
   "metadata": {},
   "outputs": [],
   "source": [
    "#Fixing missing data issues \n",
    "print(df_merged[\"REF_DATE\"].sort_values().unique())\n"
   ]
  },
  {
   "cell_type": "code",
   "execution_count": null,
   "id": "6a5233b0-c42b-4c5e-8e82-e666ca6a11bc",
   "metadata": {},
   "outputs": [],
   "source": [
    "#Dates to monthly period format\n",
    "df_merged[\"REF_DATE\"] = pd.to_datetime(df_merged[\"REF_DATE\"])\n",
    "df_merged[\"REF_DATE\"] = df_merged[\"REF_DATE\"].dt.to_period(\"M\").dt.to_timestamp()\n"
   ]
  },
  {
   "cell_type": "code",
   "execution_count": null,
   "id": "63a3360c-a2c3-41cf-876e-e50ec011dd1e",
   "metadata": {},
   "outputs": [],
   "source": [
    "df_monthly = df_merged.groupby([\"REF_DATE\", \"GEO\"]).mean(numeric_only=True).reset_index()\n"
   ]
  },
  {
   "cell_type": "code",
   "execution_count": null,
   "id": "bb0d3dd5-3d9c-4758-8a3d-a32684b66bbd",
   "metadata": {},
   "outputs": [],
   "source": [
    "#For missing months\n",
    "full_months = pd.date_range(start=\"2015-01-01\", end=\"2025-12-01\", freq=\"MS\")\n",
    "df_full = pd.DataFrame({\"REF_DATE\": full_months})\n",
    "\n",
    "# Merge with your data, per GEO if needed\n",
    "df_final = pd.merge(df_full, df_monthly, on=\"REF_DATE\", how=\"left\")\n"
   ]
  },
  {
   "cell_type": "code",
   "execution_count": null,
   "id": "9e4bba12-c719-4dfe-9b06-89f4c3570dca",
   "metadata": {},
   "outputs": [],
   "source": [
    "df_final.head(10)"
   ]
  },
  {
   "cell_type": "code",
   "execution_count": null,
   "id": "4f3fed19-43cf-4aea-b087-c1b31c49ec32",
   "metadata": {},
   "outputs": [],
   "source": [
    "df_merged.to_csv(\"Final_macro_covid_data.csv\", index=False)"
   ]
  },
  {
   "cell_type": "code",
   "execution_count": null,
   "id": "c2342ec5-92b2-471c-8367-fd05da4dcbbe",
   "metadata": {},
   "outputs": [],
   "source": []
  },
  {
   "cell_type": "code",
   "execution_count": null,
   "id": "1a8ff6e4-5f08-4262-a280-8d766b9fee93",
   "metadata": {},
   "outputs": [],
   "source": []
  }
 ],
 "metadata": {
  "kernelspec": {
   "display_name": "Python 3 (ipykernel)",
   "language": "python",
   "name": "python3"
  },
  "language_info": {
   "codemirror_mode": {
    "name": "ipython",
    "version": 3
   },
   "file_extension": ".py",
   "mimetype": "text/x-python",
   "name": "python",
   "nbconvert_exporter": "python",
   "pygments_lexer": "ipython3",
   "version": "3.12.4"
  }
 },
 "nbformat": 4,
 "nbformat_minor": 5
}
